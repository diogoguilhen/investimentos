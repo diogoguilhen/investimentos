{
 "cells": [
  {
   "cell_type": "code",
   "execution_count": null,
   "metadata": {},
   "outputs": [],
   "source": [
    "import pandas as pd\n",
    "import requests \n",
    "from bs4 import BeautifulSoup\n",
    "\n"
   ]
  },
  {
   "cell_type": "code",
   "execution_count": null,
   "metadata": {},
   "outputs": [],
   "source": [
    "\n",
    "URL = \"https://investidor.suno.com.br/carteiras/suno-start\"\n",
    "page = requests.get(URL)\n"
   ]
  },
  {
   "cell_type": "code",
   "execution_count": null,
   "metadata": {},
   "outputs": [],
   "source": [
    "df = pd.read_csv('sunoteste.csv')\n",
    "\n"
   ]
  },
  {
   "cell_type": "code",
   "execution_count": null,
   "metadata": {},
   "outputs": [],
   "source": [
    "df = df.iloc[1: , :]\n",
    "df['Inicio'] = df['Inicio'].astype(int).astype(str).str.zfill(8)"
   ]
  },
  {
   "cell_type": "code",
   "execution_count": null,
   "metadata": {},
   "outputs": [],
   "source": [
    "df['Inicio']"
   ]
  },
  {
   "cell_type": "code",
   "execution_count": null,
   "metadata": {},
   "outputs": [],
   "source": [
    "df['Inicio'] = pd.to_datetime(df['Inicio'], format='%d%m%Y')"
   ]
  },
  {
   "cell_type": "code",
   "execution_count": null,
   "metadata": {},
   "outputs": [],
   "source": [
    "df"
   ]
  },
  {
   "cell_type": "code",
   "execution_count": null,
   "metadata": {},
   "outputs": [],
   "source": [
    "print(page.text)"
   ]
  },
  {
   "cell_type": "code",
   "execution_count": null,
   "metadata": {},
   "outputs": [],
   "source": [
    "import mechanize\n",
    "from bs4 import BeautifulSoup\n",
    "import urllib.request as urllib2\n",
    "from http import cookiejar \n",
    "\n",
    "cj = cookiejar.CookieJar()\n",
    "br = mechanize.Browser()\n",
    "br.set_cookiejar(cj)\n",
    "br.set_handle_robots(False)\n",
    "br.addheaders = [('User-Agent', 'Mozilla/5.0 (X11; U; Linux i686; en-US; rv:1.9.0.1) Gecko/2008071615 Fedora/3.0.1-1.fc9 Firefox/3.0.1')]\n",
    "br.open(\"https://login.suno.com.br/entrar/cef02de7-1e5a-4b0e-9f41-04e9278aa2d7/\")\n",
    "#br.open(\"https://investidor.suno.com.br/carteiras/suno-start\")\n",
    "\n",
    "\n",
    "br.select_form(nr=0)\n",
    "br.form['user_email'] = 'contato@diogoguilhen.com.br'\n",
    "br.form['user_password'] = ''\n",
    "br.submit()\n",
    "\n",
    "#print(br.response().read())"
   ]
  },
  {
   "cell_type": "code",
   "execution_count": null,
   "metadata": {},
   "outputs": [],
   "source": [
    "br.select_form(nr=0)"
   ]
  },
  {
   "cell_type": "code",
   "execution_count": null,
   "metadata": {},
   "outputs": [],
   "source": [
    "\n",
    "df.columns"
   ]
  },
  {
   "cell_type": "code",
   "execution_count": null,
   "metadata": {},
   "outputs": [],
   "source": [
    "#Dividendos\n",
    "def is_int(val):\n",
    "    if val[5:6].isdigit() == True :\n",
    "        \n",
    "        return val[:6]\n",
    "    else:\n",
    "        return val[:5]\n",
    "\n",
    "import pandas as pd\n",
    "\n",
    "df = pd.read_csv('dividendos_sunocompilado.csv')\n",
    "df['Ticker'] = df.apply(lambda x :  is_int((x['Ticker / Empresa'])) , axis=1)\n",
    "df['Empresa'] = df.apply(lambda x :  str(x['Ticker / Empresa'])[len(is_int((x['Ticker / Empresa']))):-14] , axis=1) #nome certo\n",
    "df = df.drop(columns = ['Ticker / Empresa', 'Ativo'])\n",
    "df['Rank'] = df.apply(lambda x : int(float(x['Rank'])/10), axis=1 )\n",
    "df[['Rank', 'Ticker', 'Empresa', 'Início', 'DY esperado',\n",
    "       'Alocação', 'Entrada (R$)', 'Preço atual (R$)', 'Preço teto (R$)',\n",
    "       'Rentabilidade', 'Viés', 'Origem']]\n"
   ]
  },
  {
   "cell_type": "code",
   "execution_count": null,
   "metadata": {},
   "outputs": [],
   "source": [
    "#Valor\n",
    "def is_int(val):\n",
    "    if val[5:6].isdigit() == True :\n",
    "        \n",
    "        return val[:6]\n",
    "    else:\n",
    "        return val[:5]\n",
    "\n",
    "import pandas as pd\n",
    "\n",
    "df = pd.read_csv('Valor_sunocompilado.csv')\n",
    "\n",
    "df['Ticker'] = df.apply(lambda x :  is_int((x['Ticker / Empresa'])) , axis=1)\n",
    "df['Empresa'] = df.apply(lambda x :  str(x['Ticker / Empresa'])[len(is_int((x['Ticker / Empresa']))):-14] , axis=1) #nome certo\n",
    "df = df.drop(columns = ['Ticker / Empresa', 'Ativo'])\n",
    "df['Rank'] = df.apply(lambda x : int(float(x['Rank'])/10), axis=1 )\n",
    "df[['Rank', 'Ticker', 'Empresa', 'Início', 'Alocação',\n",
    "       'Entrada (R$)', 'Preço atual (R$)', 'Preço teto (R$)', 'Rentabilidade',\n",
    "       'Viés', 'Origem']]"
   ]
  },
  {
   "cell_type": "code",
   "execution_count": null,
   "metadata": {},
   "outputs": [],
   "source": [
    "#smallcaps\n",
    "def is_int(val):\n",
    "    if val[5:6].isdigit() == True :\n",
    "        \n",
    "        return val[:6]\n",
    "    else:\n",
    "        return val[:5]\n",
    "\n",
    "import pandas as pd\n",
    "\n",
    "df = pd.read_csv('small-caps_sunocompilado.csv')\n",
    "df\n",
    "df['Ticker'] = df.apply(lambda x :  is_int((x['Ticker / Empresa'])) , axis=1)\n",
    "df['Empresa'] = df.apply(lambda x :  str(x['Ticker / Empresa'])[len(is_int((x['Ticker / Empresa']))):-14] , axis=1) #nome certo\n",
    "df = df.drop(columns = ['Ticker / Empresa', 'Ativo'])\n",
    "df['Rank'] = df.apply(lambda x : int(float(x['Rank'])/10), axis=1 )\n",
    "df[['Rank', 'Ticker', 'Empresa', 'Início', 'Alocação',\n",
    "       'Entrada (R$)', 'Preço atual (R$)', 'Preço teto (R$)', 'Rentabilidade',\n",
    "       'Viés', 'Origem']]"
   ]
  }
 ],
 "metadata": {
  "interpreter": {
   "hash": "c1c7228b4e1a0ad710b50409e804cf988e7afe30b7dd86990928c748601fd5df"
  },
  "kernelspec": {
   "display_name": "Python 3.9.10 64-bit (windows store)",
   "language": "python",
   "name": "python3"
  },
  "language_info": {
   "codemirror_mode": {
    "name": "ipython",
    "version": 3
   },
   "file_extension": ".py",
   "mimetype": "text/x-python",
   "name": "python",
   "nbconvert_exporter": "python",
   "pygments_lexer": "ipython3",
   "version": "3.9.10"
  },
  "orig_nbformat": 4
 },
 "nbformat": 4,
 "nbformat_minor": 2
}
